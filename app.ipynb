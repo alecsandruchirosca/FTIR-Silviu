{
 "cells": [
  {
   "cell_type": "code",
   "execution_count": 26,
   "id": "adf51951",
   "metadata": {},
   "outputs": [
    {
     "name": "stdout",
     "output_type": "stream",
     "text": [
      " * Serving Flask app '__main__'\n",
      " * Debug mode: off\n"
     ]
    },
    {
     "name": "stderr",
     "output_type": "stream",
     "text": [
      "WARNING: This is a development server. Do not use it in a production deployment. Use a production WSGI server instead.\n",
      " * Running on http://127.0.0.1:5000\n",
      "Press CTRL+C to quit\n",
      "127.0.0.1 - - [03/Apr/2024 11:25:28] \"GET / HTTP/1.1\" 200 -\n",
      "127.0.0.1 - - [03/Apr/2024 11:25:28] \"GET /static/style.css HTTP/1.1\" 404 -\n",
      "127.0.0.1 - - [03/Apr/2024 11:25:29] \"POST /predict HTTP/1.1\" 200 -\n"
     ]
    },
    {
     "name": "stdout",
     "output_type": "stream",
     "text": [
      "41651/41651 [==============================] - 164s 4ms/step\n"
     ]
    },
    {
     "name": "stderr",
     "output_type": "stream",
     "text": [
      "127.0.0.1 - - [03/Apr/2024 11:28:36] \"POST /predict HTTP/1.1\" 200 -\n"
     ]
    }
   ],
   "source": [
    "from flask import Flask, render_template,request,jsonify\n",
    "import csv\n",
    "import pandas as pd\n",
    "import ast\n",
    "import numpy as np\n",
    "import tensorflow as tf\n",
    "app = Flask(__name__)\n",
    "\n",
    "\n",
    "@app.route('/')\n",
    "def hello():\n",
    "    return render_template('index.html')\n",
    "\n",
    "@app.route('/predict', methods=['POST'])\n",
    "def predict():\n",
    "    if request.method == 'POST':\n",
    "        # check if the post request has the file part\n",
    "        if 'file' not in request.files:\n",
    "            return 'No file part'\n",
    "        file = request.files['file']\n",
    "        # if user does not select file, browser also\n",
    "        # submit an empty part without filename\n",
    "        if file.filename == '':\n",
    "            return 'No selected file'\n",
    "        if file and file.filename.endswith('.csv'):\n",
    "            # Here, you can do something with the uploaded CSV file\n",
    "            df = pd.read_csv(file,sep='\\t')\n",
    "            dfdata=df['interval']\n",
    "            \n",
    "            interval_arrays = df['interval'].apply(lambda x: np.array(ast.literal_eval(x)))\n",
    "            dfdata_filtered = []\n",
    "            \n",
    "            for row in dfdata:\n",
    "                arr_str = row  # Assuming row is a string representation of the array\n",
    "                arr = np.fromstring(arr_str[1:-1], sep=',')  # Convert string to numpy array\n",
    "                if arr.size > 0:  # Skip empty or singleton arrays\n",
    "                    dfdata_filtered.append(arr.reshape( 100))\n",
    "            # For example, you can read the CSV file and perform prediction\n",
    "            # For now, let's just return a message indicating success\n",
    "            # Create input data and labels\n",
    "            inputs = dfdata_filtered[:-1]  # All elements except the last one\n",
    "            labels = dfdata_filtered[1:]   # All elements except the first one\n",
    "\n",
    "            # Define a function to generate batches\n",
    "            def generate_batches(inputs, labels, batch_size):\n",
    "                # Combine inputs and labels into a dataset\n",
    "                dataset = tf.data.Dataset.from_tensor_slices((inputs, labels))\n",
    "\n",
    "                # Batch the dataset\n",
    "                dataset = dataset.batch(batch_size)\n",
    "\n",
    "                return dataset\n",
    "\n",
    "            # Example usage:\n",
    "            batch_size = 1  # Set your desired batch size\n",
    "\n",
    "            # Generate the dataset\n",
    "            dataset = generate_batches(inputs, labels, batch_size)\n",
    "            \n",
    "            model= tf.keras.models.load_model('model.h5')\n",
    "            \n",
    "            pred=model.predict(dataset)\n",
    "            \n",
    "            pred = pred.tolist()\n",
    "            energy_list=df['E0'].tolist()\n",
    "            energy_list = energy_list[:-1]\n",
    "            dfrnn = pd.DataFrame({'E0': energy_list, 'interval': pred})\n",
    "            dfrnn.to_csv('pred.csv', index=False)\n",
    "            with open('pred.csv', newline='') as csvfile:\n",
    "                csvreader = csv.reader(csvfile)\n",
    "                data = list(csvreader)\n",
    "\n",
    "            # Render data in HTML template\n",
    "            return render_template('pred.html', data=data)\n",
    "\n",
    "        else:\n",
    "            return 'Please upload a CSV file'\n",
    "        \n",
    "if __name__ == '__main__':\n",
    "    app.run()"
   ]
  },
  {
   "cell_type": "code",
   "execution_count": 2,
   "id": "040c60d1",
   "metadata": {},
   "outputs": [
    {
     "name": "stderr",
     "output_type": "stream",
     "text": [
      "No traceback available to show.\n"
     ]
    }
   ],
   "source": [
    "%tb"
   ]
  },
  {
   "cell_type": "code",
   "execution_count": null,
   "id": "1900c33c",
   "metadata": {},
   "outputs": [],
   "source": []
  }
 ],
 "metadata": {
  "kernelspec": {
   "display_name": "Python 3 (ipykernel)",
   "language": "python",
   "name": "python3"
  },
  "language_info": {
   "codemirror_mode": {
    "name": "ipython",
    "version": 3
   },
   "file_extension": ".py",
   "mimetype": "text/x-python",
   "name": "python",
   "nbconvert_exporter": "python",
   "pygments_lexer": "ipython3",
   "version": "3.9.18"
  }
 },
 "nbformat": 4,
 "nbformat_minor": 5
}
