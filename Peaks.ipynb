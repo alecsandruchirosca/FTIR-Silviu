{
 "cells": [
  {
   "cell_type": "code",
   "execution_count": 1,
   "id": "0759b69c",
   "metadata": {},
   "outputs": [
    {
     "data": {
      "text/plain": [
       "'\\n\\n    Programul foloseste urmatoarele librarii:\\n    -pandas pentru a lucra cu fisiare csv si dataframe\\n    -numpy pentru a lucra cu numpy array-uri(matrici bidimensionale)\\n    -scipy.signal pentru a lucra cu spectrele, pentru a gasi valorile de maxim local (peak-uri), cat si latimea la semiinaltime si  proeminenta varfului.\\n    -os pentru lucurl cu fisiere, verificarea existentei sau stergerea de fisiere\\n\\n    Programul citeste din fisier datele experimentale, prelucrate si grupate pe doua coloane IR si SPECTRUM, si le incarca in 12 Pandas dataframe-uri.\\n    Fisierele cu date experimentale contin pe coloana IR valoarea energie si pe coloana SPECTRUM valoara intensitatii.\\n    \\n    Un dataframe este o stuctura bidimensionala, similara cu o matrice bidimensionala sau un tabel dimensional.\\n    \\n    In dataframe schimbam denumirea celor doua coloane in energie si intensitate pentru a fi mai intuitive.\\n    \\n    Programul va genera, pe baza unei secvente de lungime aleasa, in cazul nostru 100, pentru reteaua rnn, un fisier csv care contine pentru fiecare intrare urmatoarele:\\n    -numele fisierului de provenienta\\n    -energia relativa initiala\\n    -secventa de 100 de intensitati\\n    -energia varfului\\n    -latimea varfului la semiinaltime\\n    -proeminenta varfului\\n    \\n\\n\\n'"
      ]
     },
     "execution_count": 1,
     "metadata": {},
     "output_type": "execute_result"
    }
   ],
   "source": [
    "'''\n",
    "\n",
    "    Programul foloseste urmatoarele librarii:\n",
    "    -pandas pentru a lucra cu fisiare csv si dataframe\n",
    "    -numpy pentru a lucra cu numpy array-uri(matrici bidimensionale)\n",
    "    -scipy.signal pentru a lucra cu spectrele, pentru a gasi valorile de maxim local (peak-uri), cat si latimea la semiinaltime si  proeminenta varfului.\n",
    "    -os pentru lucurl cu fisiere, verificarea existentei sau stergerea de fisiere\n",
    "\n",
    "    Programul citeste din fisier datele experimentale, prelucrate si grupate pe doua coloane IR si SPECTRUM, si le incarca in 12 Pandas dataframe-uri.\n",
    "    Fisierele cu date experimentale contin pe coloana IR valoarea energie si pe coloana SPECTRUM valoara intensitatii.\n",
    "    \n",
    "    Un dataframe este o stuctura bidimensionala, similara cu o matrice bidimensionala sau un tabel dimensional.\n",
    "    \n",
    "    In dataframe schimbam denumirea celor doua coloane in energie si intensitate pentru a fi mai intuitive.\n",
    "    \n",
    "    Programul va genera, pe baza unei secvente de lungime aleasa, in cazul nostru 100, pentru reteaua rnn, un fisier csv care contine pentru fiecare intrare urmatoarele:\n",
    "    -numele fisierului de provenienta\n",
    "    -energia relativa initiala\n",
    "    -secventa de 100 de intensitati\n",
    "    -energia varfului\n",
    "    -latimea varfului la semiinaltime\n",
    "    -proeminenta varfului\n",
    "    \n",
    "\n",
    "\n",
    "'''"
   ]
  },
  {
   "cell_type": "code",
   "execution_count": 2,
   "id": "02d2012d",
   "metadata": {},
   "outputs": [],
   "source": [
    "import pandas as pd\n",
    "from scipy.signal import find_peaks,peak_widths,peak_prominences\n",
    "import numpy as np\n",
    "import os"
   ]
  },
  {
   "cell_type": "code",
   "execution_count": 3,
   "id": "533e12ff",
   "metadata": {},
   "outputs": [],
   "source": [
    "df1 = pd.read_csv(r\"C:\\Users\\silviu.musat\\Documents\\ftir\\8-GO-TST.asc\",sep='\\t')\n",
    "df2 = pd.read_csv(r\"C:\\Users\\silviu.musat\\Documents\\ftir\\9-GO-TST.asc\",sep='\\t')\n",
    "df3 = pd.read_csv(r\"C:\\Users\\silviu.musat\\Documents\\ftir\\10-GO-TST.asc\",sep='\\t')\n",
    "df4 = pd.read_csv(r\"C:\\Users\\silviu.musat\\Documents\\ftir\\11-GO-TST.asc\",sep='\\t')\n",
    "df5 = pd.read_csv(r\"C:\\Users\\silviu.musat\\Documents\\ftir\\12-GO-TST.asc\",sep='\\t')\n",
    "df6 = pd.read_csv(r\"C:\\Users\\silviu.musat\\Documents\\ftir\\13-GO-TST.asc\",sep='\\t')\n",
    "df7 = pd.read_csv(r\"C:\\Users\\silviu.musat\\Documents\\ftir\\14-GO-TST.asc\",sep='\\t')\n",
    "df8 = pd.read_csv(r\"C:\\Users\\silviu.musat\\Documents\\ftir\\15-GO-TST.asc\",sep='\\t')\n",
    "df9 = pd.read_csv(r\"C:\\Users\\silviu.musat\\Documents\\ftir\\16-GO-TST.asc\",sep='\\t')\n",
    "df10 = pd.read_csv(r\"C:\\Users\\silviu.musat\\Documents\\ftir\\17-GO-TST.asc\",sep='\\t')\n",
    "df11 = pd.read_csv(r\"C:\\Users\\silviu.musat\\Documents\\ftir\\18-GO-TST.asc\",sep='\\t')\n",
    "df12 = pd.read_csv(r\"C:\\Users\\silviu.musat\\Documents\\ftir\\s1-GO-TST.asc\",sep='\\t')\n"
   ]
  },
  {
   "cell_type": "code",
   "execution_count": 4,
   "id": "1eda98f8",
   "metadata": {},
   "outputs": [],
   "source": [
    "df1.rename(columns={'IR': 'Energy', 'SPECTRUM': 'Intensity'}, inplace=True)\n",
    "df2.rename(columns={'IR': 'Energy', 'SPECTRUM': 'Intensity'}, inplace=True)\n",
    "df3.rename(columns={'IR': 'Energy', 'SPECTRUM': 'Intensity'}, inplace=True)\n",
    "df4.rename(columns={'IR': 'Energy', 'SPECTRUM': 'Intensity'}, inplace=True)\n",
    "df5.rename(columns={'IR': 'Energy', 'SPECTRUM': 'Intensity'}, inplace=True)\n",
    "df6.rename(columns={'IR': 'Energy', 'SPECTRUM': 'Intensity'}, inplace=True)\n",
    "df7.rename(columns={'IR': 'Energy', 'SPECTRUM': 'Intensity'}, inplace=True)\n",
    "df8.rename(columns={'IR': 'Energy', 'SPECTRUM': 'Intensity'}, inplace=True)\n",
    "df9.rename(columns={'IR': 'Energy', 'SPECTRUM': 'Intensity'}, inplace=True)\n",
    "df10.rename(columns={'IR': 'Energy', 'SPECTRUM': 'Intensity'}, inplace=True)\n",
    "df11.rename(columns={'IR': 'Energy', 'SPECTRUM': 'Intensity'}, inplace=True)\n",
    "df12.rename(columns={'IR': 'Energy', 'SPECTRUM': 'Intensity'}, inplace=True)"
   ]
  },
  {
   "cell_type": "code",
   "execution_count": 5,
   "id": "3b0520ba",
   "metadata": {},
   "outputs": [
    {
     "data": {
      "text/plain": [
       "'\\n    lsec reprezinta lungimea secventei utilizate de program, in cazul nostru vom lucra cu o lungime de 100 de randuri.\\n\\n'"
      ]
     },
     "execution_count": 5,
     "metadata": {},
     "output_type": "execute_result"
    }
   ],
   "source": [
    "'''\n",
    "    lsec reprezinta lungimea secventei utilizate de program, in cazul nostru vom lucra cu o lungime de 100 de randuri.\n",
    "\n",
    "'''"
   ]
  },
  {
   "cell_type": "code",
   "execution_count": 6,
   "id": "ba345863",
   "metadata": {},
   "outputs": [],
   "source": [
    "lsec=100"
   ]
  },
  {
   "cell_type": "code",
   "execution_count": 7,
   "id": "d4665767",
   "metadata": {},
   "outputs": [
    {
     "data": {
      "text/plain": [
       "'\\n     Exemplu de utilizare:\\n     create_smaller_df(df1,0) face o sectiune de dataframe de 100 de randuri din primul dataframe incepand de la 0 pana la 99 si il afiseaza in consola.\\n'"
      ]
     },
     "execution_count": 7,
     "metadata": {},
     "output_type": "execute_result"
    }
   ],
   "source": [
    "def create_smaller_df(df, start_index):\n",
    "    \"\"\"\n",
    "    Functia create_smaller_df creeaza un dataframe mai mic incepand de la un index specificat si continand urmatoarele 100 de randuri.\n",
    "    Parametri:\n",
    "        df (DataFrame): dataframe-ul original.\n",
    "        start_index (int): indexul de la care sa inceapa taierea.\n",
    "    Returneaza:\n",
    "        DataFrame: dataframe-ul mai mic care contine 100 de randuri incepand de la indexul specificat.\n",
    "    \"\"\"\n",
    "    # creeaza un Dataframe mai mic incepand de la indexul definit si continand urmatoarele 100 de randuri\n",
    "    smaller_df = df.iloc[start_index:start_index+lsec].copy()\n",
    "    \n",
    "    # reseteaza indexul dataframe-ului mai mic astfel incat sa inceapa de la 0\n",
    "    smaller_df.reset_index(drop=True, inplace=True)\n",
    "    \n",
    "    return smaller_df\n",
    "'''\n",
    "     Exemplu de utilizare:\n",
    "     create_smaller_df(df1,0) face o sectiune de dataframe de 100 de randuri din primul dataframe incepand de la 0 pana la 99 si il afiseaza in consola.\n",
    "'''"
   ]
  },
  {
   "cell_type": "code",
   "execution_count": 8,
   "id": "d3f1b15d",
   "metadata": {},
   "outputs": [],
   "source": [
    "#create_smaller_df(df1,0)"
   ]
  },
  {
   "cell_type": "code",
   "execution_count": 9,
   "id": "5e51c011",
   "metadata": {},
   "outputs": [
    {
     "data": {
      "text/plain": [
       "'\\n    Facem 2 liste, una cu numele fisierelor din care provin spectrele si una cu dataframe-urile utilizate de program.\\n'"
      ]
     },
     "execution_count": 9,
     "metadata": {},
     "output_type": "execute_result"
    }
   ],
   "source": [
    "'''\n",
    "    Facem 2 liste, una cu numele fisierelor din care provin spectrele si una cu dataframe-urile utilizate de program.\n",
    "'''"
   ]
  },
  {
   "cell_type": "code",
   "execution_count": 10,
   "id": "92037779",
   "metadata": {},
   "outputs": [],
   "source": [
    "lstfilenames=[\"8-GO-BPZ_1.asc\",\"9-GO-BPZ_1.asc\",\"10-GO-BPZ_1.asc\",\"11-GO-BPZ_1.asc\",\"12-GO-BPZ_1.asc\",\"13-GO-BPZ_1.asc\",\"14-GO-BPZ_1.asc\",\"15-GO-BPZ_1.asc\",\"16-GO-BPZ_1.asc\",\"17-GO-BPZ_1.asc\",\"18-GO-BPZ_1.asc\",\"sticla nedepusa_1.asc\"]"
   ]
  },
  {
   "cell_type": "code",
   "execution_count": 11,
   "id": "2dd9e048",
   "metadata": {},
   "outputs": [],
   "source": [
    "lstdf=[df1,df2,df3,df4,df5,df6,df7,df8,df9,df10,df11,df12]"
   ]
  },
  {
   "cell_type": "code",
   "execution_count": 12,
   "id": "469ef57d",
   "metadata": {},
   "outputs": [
    {
     "data": {
      "text/plain": [
       "'\\n    Pentru csv-ul final vom avea nevoie de un dataframe result_df, care va avea campurile populate cu ajutorul listelor ce corespund pentru:\\n        -numele fisierului de provenienta\\n        -energia relativa initiala\\n        -secventa de 100 de intensitati\\n        -energia varfului\\n        -latimea varfului la semiinaltime\\n        -proeminenta varfului\\n\\n'"
      ]
     },
     "execution_count": 12,
     "metadata": {},
     "output_type": "execute_result"
    }
   ],
   "source": [
    "'''\n",
    "    Pentru csv-ul final vom avea nevoie de un dataframe result_df, care va avea campurile populate cu ajutorul listelor ce corespund pentru:\n",
    "        -numele fisierului de provenienta\n",
    "        -energia relativa initiala\n",
    "        -secventa de 100 de intensitati\n",
    "        -energia varfului\n",
    "        -latimea varfului la semiinaltime\n",
    "        -proeminenta varfului\n",
    "\n",
    "'''"
   ]
  },
  {
   "cell_type": "code",
   "execution_count": 13,
   "id": "d02afff0",
   "metadata": {},
   "outputs": [],
   "source": [
    "Filename_list =[]\n",
    "E0_list = []\n",
    "interval_list = []\n",
    "indice_list = []\n",
    "width_list = []\n",
    "prominence_list = []"
   ]
  },
  {
   "cell_type": "code",
   "execution_count": 14,
   "id": "622b631f",
   "metadata": {},
   "outputs": [
    {
     "data": {
      "text/plain": [
       "'\\n\\n    Programul parcurge toate cele 12 dataframe-uri unul cate unul cu ajutorul listei de dataframe-uri, dupa care programul parcvurge pentru fiecare dataframe in secvente de 100 datele din tabele.\\n    Programul calculeaza pentru intervalul de 100 ales valoarea varfurilor cu ajutorul functiei find_peaks si in cazul in care gaseste varfuri va calcula cel mai bun varf.\\n    Pentru cel mai bun varf va calcula latimea si proeminenta.\\n    In cazul in care nu gaseste, se marcheaza cu 0 indexul celui mai bun peak, energia varfului fiind energia initiala, si se marcheaza cu 0 valorile pentru latime si proeminenta.\\n    Toate datele obtinute sunt salvate in listele declarate initial.\\n    Programul va lua rand pe rand ca energie initiala fiecare energie din dataframe pana nu va mai putea forma secvente de 100.\\n    Programul executa aceste operatii pentru fiecare dataframe cu valori ale spectrelor.\\n\\n\\n'"
      ]
     },
     "execution_count": 14,
     "metadata": {},
     "output_type": "execute_result"
    }
   ],
   "source": [
    "'''\n",
    "\n",
    "    Programul parcurge toate cele 12 dataframe-uri unul cate unul cu ajutorul listei de dataframe-uri, dupa care programul parcvurge pentru fiecare dataframe in secvente de 100 datele din tabele.\n",
    "    Programul calculeaza pentru intervalul de 100 ales valoarea varfurilor cu ajutorul functiei find_peaks si in cazul in care gaseste varfuri va calcula cel mai bun varf.\n",
    "    Pentru cel mai bun varf va calcula latimea si proeminenta.\n",
    "    In cazul in care nu gaseste, se marcheaza cu 0 indexul celui mai bun peak, energia varfului fiind energia initiala, si se marcheaza cu 0 valorile pentru latime si proeminenta.\n",
    "    Toate datele obtinute sunt salvate in listele declarate initial.\n",
    "    Programul va lua rand pe rand ca energie initiala fiecare energie din dataframe pana nu va mai putea forma secvente de 100.\n",
    "    Programul executa aceste operatii pentru fiecare dataframe cu valori ale spectrelor.\n",
    "\n",
    "\n",
    "'''"
   ]
  },
  {
   "cell_type": "code",
   "execution_count": 15,
   "id": "a12f8bff",
   "metadata": {},
   "outputs": [],
   "source": [
    "for j in range(len(lstdf)):\n",
    "    \n",
    "    filename=lstfilenames[j]\n",
    "    dfx=lstdf[j]\n",
    "    \n",
    "    for i in range(len(dfx)-lsec):\n",
    "        \n",
    "        x=create_smaller_df(dfx,i)\n",
    "        E0= x.iloc[0, 0]\n",
    "        \n",
    "        #print(E0)\n",
    "        interval=np.array([None])\n",
    "        for z in range(lsec):\n",
    "            interval=np.append(interval, x.iloc[z,1])\n",
    "        interval = np.delete(interval, 0)\n",
    "        interval=interval.astype(float)\n",
    "        \n",
    "        #print(interval)\n",
    "        \n",
    "        peaks,_ =find_peaks(interval)\n",
    "        \n",
    "        #print(peaks)\n",
    "        #print(interval[peaks])\n",
    "        \n",
    "        if len(peaks) == 0:\n",
    "            \n",
    "            best_peak_index=0\n",
    "            indice=E0\n",
    "            widthf=0\n",
    "            prominencef=0\n",
    "            \n",
    "        else:\n",
    "            \n",
    "            best_peak_index = peaks[np.argmax(interval[peaks])]\n",
    "            \n",
    "            #print(interval[best_peak_index])\n",
    "            \n",
    "            indice=E0-best_peak_index\n",
    "            \n",
    "            #print(indice)\n",
    "            \n",
    "            best_peak=np.array([best_peak_index])\n",
    "            \n",
    "            #print(best_peak)\n",
    "            \n",
    "            width=peak_widths(interval, best_peak, rel_height=0.5)\n",
    "            \n",
    "            #print(width[0])\n",
    "            widthf=width[0][0]\n",
    "            widthf=float(widthf)\n",
    "            \n",
    "            #print(widthf)\n",
    "            \n",
    "            prominence=peak_prominences(interval, best_peak)\n",
    "            \n",
    "            #print(prominence[0])\n",
    "            prominencef=prominence[0][0]\n",
    "            prominencef=float(prominencef)\n",
    "            \n",
    "            #print(prominencef)\n",
    "            \n",
    "        Filename_list.append(filename)\n",
    "        E0_list.append(E0)\n",
    "        interval= interval.tolist()\n",
    "        interval_list.append(interval)\n",
    "        indice_list.append(indice)\n",
    "        width_list.append(widthf)\n",
    "        prominence_list.append(prominencef)\n",
    "\n",
    "    \n",
    "        \n",
    " "
   ]
  },
  {
   "cell_type": "code",
   "execution_count": 17,
   "id": "b9878eee",
   "metadata": {},
   "outputs": [
    {
     "data": {
      "text/plain": [
       "'\\n\\n\\n    Rezultate sunt salvate in dataframe-ul de rezultate cu ajutorul datelor din liste.\\n    Verificam existenta fisierului de inputspectre, daca avem deja un fisier creat, facem alt fisier.\\n    Rezultatele sunt salvate in fisierul inputspectre.csv cu spatiu de tip tab intre coloane.\\n    \\n\\n'"
      ]
     },
     "execution_count": 17,
     "metadata": {},
     "output_type": "execute_result"
    }
   ],
   "source": [
    "'''\n",
    "\n",
    "\n",
    "    Rezultate sunt salvate in dataframe-ul de rezultate cu ajutorul datelor din liste.\n",
    "    Verificam existenta fisierului de inputspectre, daca avem deja un fisier creat, facem alt fisier.\n",
    "    Rezultatele sunt salvate in fisierul inputspectre.csv cu spatiu de tip tab intre coloane.\n",
    "    \n",
    "\n",
    "'''"
   ]
  },
  {
   "cell_type": "code",
   "execution_count": 18,
   "id": "91d6491c",
   "metadata": {},
   "outputs": [],
   "source": [
    "result_df = pd.DataFrame({\n",
    "    'Filename': Filename_list,\n",
    "    'E0': E0_list,\n",
    "    'interval': interval_list,\n",
    "    'E0-Idx': indice_list,\n",
    "    'Width': width_list,\n",
    "    'Prominence': prominence_list\n",
    "})"
   ]
  },
  {
   "cell_type": "code",
   "execution_count": 19,
   "id": "6ea9450d",
   "metadata": {},
   "outputs": [
    {
     "name": "stdout",
     "output_type": "stream",
     "text": [
      "inputspectre.csv successfully removed.\n"
     ]
    }
   ],
   "source": [
    "\n",
    "file_path=\"inputspectre.csv\"\n",
    "\n",
    "try:\n",
    "    if os.path.exists(file_path):\n",
    "        os.remove(file_path)\n",
    "        print(f\"{file_path} successfully removed.\")\n",
    "    else:\n",
    "        print(f\"{file_path} does not exist.\")\n",
    "except Exception as e:\n",
    "    print(f\"An error occurred: {e}\")"
   ]
  },
  {
   "cell_type": "code",
   "execution_count": 20,
   "id": "f78a4b08",
   "metadata": {},
   "outputs": [],
   "source": [
    "result_df.to_csv('inputspectre.csv',sep='\\t', index=False) "
   ]
  },
  {
   "cell_type": "code",
   "execution_count": 21,
   "id": "f727035e",
   "metadata": {},
   "outputs": [
    {
     "data": {
      "text/plain": [
       "array([list([109.099009, 109.101216, 109.09833, 109.088991, 109.07499, 109.060975, 109.050955, 109.045466, 109.042711, 109.041694, 109.042512, 109.043606, 109.041054, 109.032315, 109.019937, 109.010094, 109.007085, 109.009705, 109.013362, 109.014996, 109.014937, 109.014472, 109.013342, 109.010502, 109.00598, 109.000845, 108.995598, 108.989586, 108.982261, 108.974159, 108.966256, 108.95883, 108.952077, 108.94723, 108.94572, 108.947005, 108.947936, 108.945663, 108.94088, 108.9363, 108.932378, 108.926929, 108.919946, 108.915778, 108.91883, 108.927815, 108.935975, 108.937719, 108.934271, 108.932513, 108.937234, 108.945903, 108.952269, 108.953383, 108.950402, 108.944082, 108.93406, 108.922496, 108.913626, 108.90869, 108.904437, 108.896914, 108.887353, 108.881879, 108.884265, 108.890266, 108.891169, 108.884224, 108.876083, 108.874345, 108.878991, 108.884933, 108.887375, 108.881543, 108.866094, 108.849864, 108.845515, 108.854289, 108.863413, 108.860673, 108.846986, 108.831512, 108.819042, 108.807747, 108.795325, 108.781833, 108.769048, 108.759838, 108.759375, 108.770571, 108.790779, 108.814077, 108.838074, 108.861171, 108.874969, 108.870597, 108.852196, 108.834488, 108.824105, 108.8135]),\n",
       "       list([109.101216, 109.09833, 109.088991, 109.07499, 109.060975, 109.050955, 109.045466, 109.042711, 109.041694, 109.042512, 109.043606, 109.041054, 109.032315, 109.019937, 109.010094, 109.007085, 109.009705, 109.013362, 109.014996, 109.014937, 109.014472, 109.013342, 109.010502, 109.00598, 109.000845, 108.995598, 108.989586, 108.982261, 108.974159, 108.966256, 108.95883, 108.952077, 108.94723, 108.94572, 108.947005, 108.947936, 108.945663, 108.94088, 108.9363, 108.932378, 108.926929, 108.919946, 108.915778, 108.91883, 108.927815, 108.935975, 108.937719, 108.934271, 108.932513, 108.937234, 108.945903, 108.952269, 108.953383, 108.950402, 108.944082, 108.93406, 108.922496, 108.913626, 108.90869, 108.904437, 108.896914, 108.887353, 108.881879, 108.884265, 108.890266, 108.891169, 108.884224, 108.876083, 108.874345, 108.878991, 108.884933, 108.887375, 108.881543, 108.866094, 108.849864, 108.845515, 108.854289, 108.863413, 108.860673, 108.846986, 108.831512, 108.819042, 108.807747, 108.795325, 108.781833, 108.769048, 108.759838, 108.759375, 108.770571, 108.790779, 108.814077, 108.838074, 108.861171, 108.874969, 108.870597, 108.852196, 108.834488, 108.824105, 108.8135, 108.7962]),\n",
       "       list([109.09833, 109.088991, 109.07499, 109.060975, 109.050955, 109.045466, 109.042711, 109.041694, 109.042512, 109.043606, 109.041054, 109.032315, 109.019937, 109.010094, 109.007085, 109.009705, 109.013362, 109.014996, 109.014937, 109.014472, 109.013342, 109.010502, 109.00598, 109.000845, 108.995598, 108.989586, 108.982261, 108.974159, 108.966256, 108.95883, 108.952077, 108.94723, 108.94572, 108.947005, 108.947936, 108.945663, 108.94088, 108.9363, 108.932378, 108.926929, 108.919946, 108.915778, 108.91883, 108.927815, 108.935975, 108.937719, 108.934271, 108.932513, 108.937234, 108.945903, 108.952269, 108.953383, 108.950402, 108.944082, 108.93406, 108.922496, 108.913626, 108.90869, 108.904437, 108.896914, 108.887353, 108.881879, 108.884265, 108.890266, 108.891169, 108.884224, 108.876083, 108.874345, 108.878991, 108.884933, 108.887375, 108.881543, 108.866094, 108.849864, 108.845515, 108.854289, 108.863413, 108.860673, 108.846986, 108.831512, 108.819042, 108.807747, 108.795325, 108.781833, 108.769048, 108.759838, 108.759375, 108.770571, 108.790779, 108.814077, 108.838074, 108.861171, 108.874969, 108.870597, 108.852196, 108.834488, 108.824105, 108.8135, 108.7962, 108.778445]),\n",
       "       ...,\n",
       "       list([91.508763, 91.440696, 91.37162, 91.290943, 91.199496, 91.116521, 91.04656, 90.967358, 90.871726, 90.782843, 90.712707, 90.643217, 90.560482, 90.474048, 90.383432, 90.265395, 90.121511, 89.990008, 89.884863, 89.773885, 89.638244, 89.506661, 89.402236, 89.29963, 89.171377, 89.033985, 88.910471, 88.79065, 88.668831, 88.568089, 88.485414, 88.369159, 88.201217, 88.029527, 87.884559, 87.737324, 87.571675, 87.424404, 87.305783, 87.157911, 86.953226, 86.755717, 86.612397, 86.477818, 86.316929, 86.17165, 86.057904, 85.90246, 85.670168, 85.444453, 85.279439, 85.101308, 84.857649, 84.617199, 84.430968, 84.231193, 83.983586, 83.781445, 83.658849, 83.46882, 83.126617, 82.800351, 82.621734, 82.474177, 82.250604, 82.029208, 81.856867, 81.600657, 81.203519, 80.849793, 80.681209, 80.558378, 80.360929, 80.209301, 80.148597, 79.932277, 79.496026, 79.140596, 78.994628, 78.81746, 78.499018, 78.301281, 78.298087, 78.130114, 77.636348, 77.190625, 77.069545, 76.938447, 76.546637, 76.226987, 76.219403, 76.138935, 75.769595, 75.467128, 75.391392, 75.102875, 74.462983, 74.164921, 74.504029, 74.709436]),\n",
       "       list([91.440696, 91.37162, 91.290943, 91.199496, 91.116521, 91.04656, 90.967358, 90.871726, 90.782843, 90.712707, 90.643217, 90.560482, 90.474048, 90.383432, 90.265395, 90.121511, 89.990008, 89.884863, 89.773885, 89.638244, 89.506661, 89.402236, 89.29963, 89.171377, 89.033985, 88.910471, 88.79065, 88.668831, 88.568089, 88.485414, 88.369159, 88.201217, 88.029527, 87.884559, 87.737324, 87.571675, 87.424404, 87.305783, 87.157911, 86.953226, 86.755717, 86.612397, 86.477818, 86.316929, 86.17165, 86.057904, 85.90246, 85.670168, 85.444453, 85.279439, 85.101308, 84.857649, 84.617199, 84.430968, 84.231193, 83.983586, 83.781445, 83.658849, 83.46882, 83.126617, 82.800351, 82.621734, 82.474177, 82.250604, 82.029208, 81.856867, 81.600657, 81.203519, 80.849793, 80.681209, 80.558378, 80.360929, 80.209301, 80.148597, 79.932277, 79.496026, 79.140596, 78.994628, 78.81746, 78.499018, 78.301281, 78.298087, 78.130114, 77.636348, 77.190625, 77.069545, 76.938447, 76.546637, 76.226987, 76.219403, 76.138935, 75.769595, 75.467128, 75.391392, 75.102875, 74.462983, 74.164921, 74.504029, 74.709436, 74.36915]),\n",
       "       list([91.37162, 91.290943, 91.199496, 91.116521, 91.04656, 90.967358, 90.871726, 90.782843, 90.712707, 90.643217, 90.560482, 90.474048, 90.383432, 90.265395, 90.121511, 89.990008, 89.884863, 89.773885, 89.638244, 89.506661, 89.402236, 89.29963, 89.171377, 89.033985, 88.910471, 88.79065, 88.668831, 88.568089, 88.485414, 88.369159, 88.201217, 88.029527, 87.884559, 87.737324, 87.571675, 87.424404, 87.305783, 87.157911, 86.953226, 86.755717, 86.612397, 86.477818, 86.316929, 86.17165, 86.057904, 85.90246, 85.670168, 85.444453, 85.279439, 85.101308, 84.857649, 84.617199, 84.430968, 84.231193, 83.983586, 83.781445, 83.658849, 83.46882, 83.126617, 82.800351, 82.621734, 82.474177, 82.250604, 82.029208, 81.856867, 81.600657, 81.203519, 80.849793, 80.681209, 80.558378, 80.360929, 80.209301, 80.148597, 79.932277, 79.496026, 79.140596, 78.994628, 78.81746, 78.499018, 78.301281, 78.298087, 78.130114, 77.636348, 77.190625, 77.069545, 76.938447, 76.546637, 76.226987, 76.219403, 76.138935, 75.769595, 75.467128, 75.391392, 75.102875, 74.462983, 74.164921, 74.504029, 74.709436, 74.36915, 74.025485])],\n",
       "      dtype=object)"
      ]
     },
     "execution_count": 21,
     "metadata": {},
     "output_type": "execute_result"
    }
   ],
   "source": [
    "result_df['interval'].values"
   ]
  }
 ],
 "metadata": {
  "kernelspec": {
   "display_name": "Python 3 (ipykernel)",
   "language": "python",
   "name": "python3"
  },
  "language_info": {
   "codemirror_mode": {
    "name": "ipython",
    "version": 3
   },
   "file_extension": ".py",
   "mimetype": "text/x-python",
   "name": "python",
   "nbconvert_exporter": "python",
   "pygments_lexer": "ipython3",
   "version": "3.9.18"
  }
 },
 "nbformat": 4,
 "nbformat_minor": 5
}
